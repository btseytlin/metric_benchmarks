{
 "cells": [
  {
   "cell_type": "code",
   "execution_count": 1,
   "metadata": {},
   "outputs": [],
   "source": [
    "%load_ext autoreload"
   ]
  },
  {
   "cell_type": "code",
   "execution_count": 2,
   "metadata": {},
   "outputs": [],
   "source": [
    "%autoreload 2"
   ]
  },
  {
   "cell_type": "code",
   "execution_count": 3,
   "metadata": {},
   "outputs": [],
   "source": [
    "!rm -r experiments/contrastive"
   ]
  },
  {
   "cell_type": "code",
   "execution_count": 8,
   "metadata": {},
   "outputs": [
    {
     "name": "stdout",
     "output_type": "stream",
     "text": [
      "[INFO 09-02 12:04:31] ax.service.ax_client: Starting optimization with verbose logging. To disable logging, set the `verbose_logging` argument to `False`. Note that float values in the logs are rounded to 2 decimal points.\n",
      "2020-09-02 12:04:31.708490: W tensorflow/stream_executor/platform/default/dso_loader.cc:59] Could not load dynamic library 'libcudart.so.10.1'; dlerror: libcudart.so.10.1: cannot open shared object file: No such file or directory\n",
      "2020-09-02 12:04:31.708513: I tensorflow/stream_executor/cuda/cudart_stub.cc:29] Ignore above cudart dlerror if you do not have a GPU set up on your machine.\n",
      " 39%|████████████████▌                          | 17/44 [00:14<00:23,  1.17it/s]^C\n",
      " 39%|████████████████▌                          | 17/44 [00:15<00:24,  1.10it/s]\n",
      "Traceback (most recent call last):\n",
      "  File \"runners/basic.py\", line 4, in <module>\n",
      "    r.run()\n",
      "  File \"/home/boris/.local/lib/python3.8/site-packages/powerful_benchmarker/runners/bayes_opt_runner.py\", line 108, in run\n",
      "    ax_client.complete_trial(trial_index=trial_index, raw_data=experiment_func(parameters, sub_experiment_name))\n",
      "  File \"/home/boris/.local/lib/python3.8/site-packages/powerful_benchmarker/runners/bayes_opt_runner.py\", line 349, in resume_training\n",
      "    output = self.try_resuming(local_YR) if parameter_load_successful else const.RESUME_FAILURE\n",
      "  File \"/home/boris/.local/lib/python3.8/site-packages/powerful_benchmarker/runners/bayes_opt_runner.py\", line 325, in try_resuming\n",
      "    output = SER.run_new_experiment_or_resume(YR)\n",
      "  File \"/home/boris/.local/lib/python3.8/site-packages/powerful_benchmarker/runners/single_experiment_runner.py\", line 33, in run_new_experiment_or_resume\n",
      "    return self.start_experiment(args)\n",
      "  File \"/home/boris/.local/lib/python3.8/site-packages/powerful_benchmarker/runners/single_experiment_runner.py\", line 22, in start_experiment\n",
      "    run_output = api_parser.run()\n",
      "  File \"/home/boris/.local/lib/python3.8/site-packages/powerful_benchmarker/api_parsers/base_api_parser.py\", line 17, in run\n",
      "    return self.run_train_or_eval()\n",
      "  File \"/home/boris/.local/lib/python3.8/site-packages/powerful_benchmarker/api_parsers/base_api_parser.py\", line 27, in run_train_or_eval\n",
      "    self.run_for_each_split_scheme()\n",
      "  File \"/home/boris/.local/lib/python3.8/site-packages/powerful_benchmarker/api_parsers/base_api_parser.py\", line 52, in run_for_each_split_scheme\n",
      "    self.train(num_epochs)\n",
      "  File \"/home/boris/.local/lib/python3.8/site-packages/powerful_benchmarker/api_parsers/base_api_parser.py\", line 61, in train\n",
      "    self.setup_eval_and_run(load_best_model=False, use_input_embedder=self.epoch==1)\n",
      "  File \"/home/boris/.local/lib/python3.8/site-packages/powerful_benchmarker/api_parsers/base_api_parser.py\", line 72, in setup_eval_and_run\n",
      "    self.eval_model(epoch, name, self.hooks, self.tester, models=self.models, load_model=load_model, skip_eval_if_already_done=self.args.skip_eval_if_already_done)\n",
      "  File \"/home/boris/.local/lib/python3.8/site-packages/powerful_benchmarker/api_parsers/base_api_parser.py\", line 87, in eval_model\n",
      "    return hooks.run_tester_separately(tester, dataset_dict, epoch, trunk_model, embedder_model, \n",
      "  File \"/home/boris/.local/lib/python3.8/site-packages/pytorch_metric_learning/utils/logging_presets.py\", line 212, in run_tester_separately\n",
      "    tester.test(dataset_dict, epoch, trunk, embedder, splits_to_eval, collate_fn)\n",
      "  File \"/home/boris/.local/lib/python3.8/site-packages/pytorch_metric_learning/testers/base_tester.py\", line 213, in test\n",
      "    self.embeddings_and_labels = self.get_all_embeddings_for_all_splits(dataset_dict, trunk_model, embedder_model, splits_to_compute_embeddings, collate_fn)\n",
      "  File \"/home/boris/.local/lib/python3.8/site-packages/pytorch_metric_learning/testers/base_tester.py\", line 201, in get_all_embeddings_for_all_splits\n",
      "    embeddings_and_labels[split_name] = self.get_all_embeddings(dataset_dict[split_name], trunk_model, embedder_model, collate_fn)\n",
      "  File \"/home/boris/.local/lib/python3.8/site-packages/pytorch_metric_learning/testers/base_tester.py\", line 97, in get_all_embeddings\n",
      "    embeddings, labels = self.compute_all_embeddings(dataloader, trunk_model, embedder_model)\n",
      "  File \"/home/boris/.local/lib/python3.8/site-packages/pytorch_metric_learning/testers/base_tester.py\", line 76, in compute_all_embeddings\n",
      "    q = self.get_embeddings_for_eval(trunk_model, embedder_model, img)\n",
      "  File \"/home/boris/.local/lib/python3.8/site-packages/pytorch_metric_learning/testers/base_tester.py\", line 102, in get_embeddings_for_eval\n",
      "    trunk_output = trunk_model(input_imgs.to(self.data_device))\n",
      "  File \"/home/boris/.local/lib/python3.8/site-packages/torch/nn/modules/module.py\", line 722, in _call_impl\n",
      "    result = self.forward(*input, **kwargs)\n",
      "  File \"/home/boris/.local/lib/python3.8/site-packages/torch/nn/parallel/data_parallel.py\", line 143, in forward\n",
      "    return self.module(*inputs, **kwargs)\n",
      "  File \"/home/boris/.local/lib/python3.8/site-packages/torch/nn/modules/module.py\", line 722, in _call_impl\n",
      "    result = self.forward(*input, **kwargs)\n",
      "  File \"/home/boris/.local/lib/python3.8/site-packages/pretrainedmodels/models/bninception.py\", line 492, in forward\n",
      "    x = self.features(input)\n",
      "  File \"/home/boris/.local/lib/python3.8/site-packages/pretrainedmodels/models/bninception.py\", line 397, in features\n",
      "    inception_4d_1x1_out = self.inception_4d_1x1(inception_4c_output_out)\n",
      "  File \"/home/boris/.local/lib/python3.8/site-packages/torch/nn/modules/module.py\", line 722, in _call_impl\n",
      "    result = self.forward(*input, **kwargs)\n",
      "  File \"/home/boris/.local/lib/python3.8/site-packages/torch/nn/modules/conv.py\", line 419, in forward\n",
      "    return self._conv_forward(input, self.weight)\n",
      "  File \"/home/boris/.local/lib/python3.8/site-packages/torch/nn/modules/conv.py\", line 415, in _conv_forward\n",
      "    return F.conv2d(input, weight, self.bias, self.stride,\n",
      "KeyboardInterrupt\n"
     ]
    }
   ],
   "source": [
    "!python3 runners/basic.py --experiment_name contrastive \\\n",
    "--dataset~OVERRIDE~ {CUB200: {download: True}} \\\n",
    "--loss_funcs~OVERRIDE~ \\\n",
    "{metric_loss: {ContrastiveLoss: {\\\n",
    "pos_margin~BAYESIAN~: [0, 1], \\\n",
    "neg_margin~BAYESIAN~: [0, 1]}}} "
   ]
  },
  {
   "cell_type": "code",
   "execution_count": null,
   "metadata": {},
   "outputs": [],
   "source": []
  }
 ],
 "metadata": {
  "kernelspec": {
   "display_name": "Python 3",
   "language": "python",
   "name": "python3"
  },
  "language_info": {
   "codemirror_mode": {
    "name": "ipython",
    "version": 3
   },
   "file_extension": ".py",
   "mimetype": "text/x-python",
   "name": "python",
   "nbconvert_exporter": "python",
   "pygments_lexer": "ipython3",
   "version": "3.8.2"
  }
 },
 "nbformat": 4,
 "nbformat_minor": 4
}
