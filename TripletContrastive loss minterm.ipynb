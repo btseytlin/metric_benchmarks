{
 "cells": [
  {
   "cell_type": "code",
   "execution_count": 1,
   "metadata": {},
   "outputs": [
    {
     "name": "stdout",
     "output_type": "stream",
     "text": [
      "rm: cannot remove 'experiments/triplet_contrastive_minterm': No such file or directory\n"
     ]
    }
   ],
   "source": [
    "!rm -r experiments/triplet_contrastive_minterm"
   ]
  },
  {
   "cell_type": "code",
   "execution_count": null,
   "metadata": {},
   "outputs": [],
   "source": [
    "!python3 triplet_contrastive_minterm.py \\\n",
    "--experiment_name triplet_contrastive_no_pn \\\n",
    "--dataset~OVERRIDE~ {CUB200: {download: True}} \\\n",
    "--loss_funcs~OVERRIDE~ \\\n",
    "{metric_loss: {TripletContrastiveLossMinterm: {\\\n",
    "triplet_margin~BAYESIAN~: [0, 1], \\\n",
    "pos_margin~BAYESIAN~: [0, 1], \\\n",
    "neg_margin~BAYESIAN~: [0, 1]}}} "
   ]
  },
  {
   "cell_type": "code",
   "execution_count": null,
   "metadata": {},
   "outputs": [],
   "source": []
  }
 ],
 "metadata": {
  "kernelspec": {
   "display_name": "Python 3",
   "language": "python",
   "name": "python3"
  },
  "language_info": {
   "codemirror_mode": {
    "name": "ipython",
    "version": 3
   },
   "file_extension": ".py",
   "mimetype": "text/x-python",
   "name": "python",
   "nbconvert_exporter": "python",
   "pygments_lexer": "ipython3",
   "version": "3.8.2"
  }
 },
 "nbformat": 4,
 "nbformat_minor": 4
}
