{
 "cells": [
  {
   "cell_type": "code",
   "execution_count": 5,
   "metadata": {},
   "outputs": [],
   "source": [
    "!rm -r experiments/triplet_contrastive"
   ]
  },
  {
   "cell_type": "code",
   "execution_count": 4,
   "metadata": {},
   "outputs": [
    {
     "name": "stdout",
     "output_type": "stream",
     "text": [
      "[INFO 09-01 17:06:30] ax.service.ax_client: Starting optimization with verbose logging. To disable logging, set the `verbose_logging` argument to `False`. Note that float values in the logs are rounded to 2 decimal points.\n",
      "[INFO 09-01 17:06:30] ax.modelbridge.dispatch_utils: Using Bayesian Optimization generation strategy: GenerationStrategy(name='Sobol+GPEI', steps=[Sobol for 5 trials, GPEI for subsequent trials]). Iterations after 5 will take longer to generate due to  model-fitting.\n",
      "2020-09-01 17:06:30.437111: W tensorflow/stream_executor/platform/default/dso_loader.cc:59] Could not load dynamic library 'libcudart.so.10.1'; dlerror: libcudart.so.10.1: cannot open shared object file: No such file or directory\n",
      "2020-09-01 17:06:30.437137: I tensorflow/stream_executor/cuda/cudart_stub.cc:29] Ignore above cudart dlerror if you do not have a GPU set up on your machine.\n",
      "[INFO 09-01 17:06:31] ax.service.ax_client: Generated new trial 0 with parameters {'loss_funcs/metric_loss/TripletContrastiveLoss/triplet_margin': 0.43, 'loss_funcs/metric_loss/TripletContrastiveLoss/pos_margin': 0.36, 'loss_funcs/metric_loss/TripletContrastiveLoss/neg_margin': 0.15}.\n",
      "[INFO 09-01 17:06:31] ax.service.ax_client: Saved JSON-serialized state of optimization to `/home/boris/Documents/thesis/benchmarks/experiments/triplet_contrastive/bayes_opt_ax_logs/log00000.json`.\n",
      "  0%|                                                    | 0/44 [00:00<?, ?it/s]2020-09-01 17:06:34.252367: I tensorflow/stream_executor/platform/default/dso_loader.cc:48] Successfully opened dynamic library libcuda.so.1\n",
      "100%|███████████████████████████████████████████| 44/44 [00:04<00:00, 10.76it/s]\n",
      "100%|███████████████████████████████████████████| 44/44 [00:03<00:00, 11.21it/s]\n",
      "  0%|                                                   | 0/100 [00:00<?, ?it/s]/home/boris/.local/lib/python3.8/site-packages/pytorch_metric_learning/utils/loss_and_miner_utils.py:127: UserWarning:\n",
      "\n",
      "This overload of nonzero is deprecated:\n",
      "\tnonzero()\n",
      "Consider using one of the following signatures instead:\n",
      "\tnonzero(*, bool as_tuple) (Triggered internally at  /pytorch/torch/csrc/utils/python_arg_parser.cpp:766.)\n",
      "\n",
      "total_loss=0.38482: 100%|█████████████████████| 100/100 [00:18<00:00,  5.30it/s]\n",
      "total_loss=0.29479: 100%|█████████████████████| 100/100 [00:18<00:00,  5.49it/s]\n",
      "100%|███████████████████████████████████████████| 44/44 [00:03<00:00, 11.49it/s]\n",
      "total_loss=0.28549:  59%|████████████▉         | 59/100 [00:11<00:07,  5.46it/s]^C\n",
      "total_loss=0.28549:  59%|████████████▉         | 59/100 [00:11<00:07,  5.25it/s]\n",
      "Traceback (most recent call last):\n",
      "  File \"runners/triplet_contrastive.py\", line 86, in <module>\n",
      "    r.run()\n",
      "  File \"/home/boris/.local/lib/python3.8/site-packages/powerful_benchmarker/runners/bayes_opt_runner.py\", line 108, in run\n",
      "    ax_client.complete_trial(trial_index=trial_index, raw_data=experiment_func(parameters, sub_experiment_name))\n",
      "  File \"/home/boris/.local/lib/python3.8/site-packages/powerful_benchmarker/runners/bayes_opt_runner.py\", line 365, in run_new_experiment\n",
      "    return SER.start_experiment(local_YR.args)\n",
      "  File \"/home/boris/.local/lib/python3.8/site-packages/powerful_benchmarker/runners/single_experiment_runner.py\", line 22, in start_experiment\n",
      "    run_output = api_parser.run()\n",
      "  File \"/home/boris/.local/lib/python3.8/site-packages/powerful_benchmarker/api_parsers/base_api_parser.py\", line 17, in run\n",
      "    return self.run_train_or_eval()\n",
      "  File \"/home/boris/.local/lib/python3.8/site-packages/powerful_benchmarker/api_parsers/base_api_parser.py\", line 27, in run_train_or_eval\n",
      "    self.run_for_each_split_scheme()\n",
      "  File \"/home/boris/.local/lib/python3.8/site-packages/powerful_benchmarker/api_parsers/base_api_parser.py\", line 52, in run_for_each_split_scheme\n",
      "    self.train(num_epochs)\n",
      "  File \"/home/boris/.local/lib/python3.8/site-packages/powerful_benchmarker/api_parsers/base_api_parser.py\", line 63, in train\n",
      "    self.trainer.train(self.epoch, num_epochs)\n",
      "  File \"/home/boris/.local/lib/python3.8/site-packages/pytorch_metric_learning/trainers/base_trainer.py\", line 85, in train\n",
      "    self.forward_and_backward()\n",
      "  File \"/home/boris/.local/lib/python3.8/site-packages/pytorch_metric_learning/trainers/base_trainer.py\", line 116, in forward_and_backward\n",
      "    self.step_optimizers()\n",
      "  File \"/home/boris/.local/lib/python3.8/site-packages/pytorch_metric_learning/trainers/base_trainer.py\", line 183, in step_optimizers\n",
      "    v.step()\n",
      "  File \"/home/boris/.local/lib/python3.8/site-packages/torch/autograd/grad_mode.py\", line 15, in decorate_context\n",
      "    return func(*args, **kwargs)\n",
      "  File \"/home/boris/.local/lib/python3.8/site-packages/torch/optim/rmsprop.py\", line 106, in step\n",
      "    p.add_(buf, alpha=-group['lr'])\n",
      "KeyboardInterrupt\n"
     ]
    }
   ],
   "source": [
    "!python3 runners/triplet_contrastive.py \\\n",
    "--experiment_name triplet_contrastive \\\n",
    "--dataset~OVERRIDE~ {CUB200: {download: True}} \\\n",
    "--loss_funcs~OVERRIDE~ \\\n",
    "{metric_loss: {TripletContrastiveLoss: {\\\n",
    "triplet_margin~BAYESIAN~: [0, 1], \\\n",
    "pos_margin~BAYESIAN~: [0, 1], \\\n",
    "neg_margin~BAYESIAN~: [0, 1]}}} "
   ]
  },
  {
   "cell_type": "code",
   "execution_count": null,
   "metadata": {},
   "outputs": [],
   "source": []
  }
 ],
 "metadata": {
  "kernelspec": {
   "display_name": "Python 3",
   "language": "python",
   "name": "python3"
  },
  "language_info": {
   "codemirror_mode": {
    "name": "ipython",
    "version": 3
   },
   "file_extension": ".py",
   "mimetype": "text/x-python",
   "name": "python",
   "nbconvert_exporter": "python",
   "pygments_lexer": "ipython3",
   "version": "3.8.2"
  }
 },
 "nbformat": 4,
 "nbformat_minor": 4
}
