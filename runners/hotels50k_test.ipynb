{
 "cells": [
  {
   "cell_type": "code",
   "execution_count": 22,
   "metadata": {},
   "outputs": [],
   "source": [
    "from hotels50k import Hotels50kDataset, UseOriginalTestSplitManager, compress_serialize\n",
    "from powerful_benchmarker.split_managers import IndexSplitManager, ClosedSetSplitManager\n",
    "from torchvision import transforms\n",
    "from torchvision import datasets\n",
    "from torch.utils.data import Dataset, DataLoader\n",
    "import torch\n",
    "import numpy as np\n",
    "from tqdm import tqdm"
   ]
  },
  {
   "cell_type": "code",
   "execution_count": 2,
   "metadata": {},
   "outputs": [],
   "source": [
    "%load_ext autoreload\n",
    "%autoreload 2"
   ]
  },
  {
   "cell_type": "code",
   "execution_count": 4,
   "metadata": {},
   "outputs": [
    {
     "name": "stdout",
     "output_type": "stream",
     "text": [
      "Loading image folders\n",
      "Concatting dataset\n",
      "Getting labels\n",
      "Done loading dataset\n"
     ]
    }
   ],
   "source": [
    "dataset = Hotels50kDataset(root='/data/thesis/Hotels-50K', target='hotels', download=False)"
   ]
  },
  {
   "cell_type": "code",
   "execution_count": 5,
   "metadata": {},
   "outputs": [
    {
     "data": {
      "text/plain": [
       "867"
      ]
     },
     "execution_count": 5,
     "metadata": {},
     "output_type": "execute_result"
    }
   ],
   "source": [
    "len(dataset)"
   ]
  },
  {
   "cell_type": "code",
   "execution_count": 6,
   "metadata": {},
   "outputs": [
    {
     "data": {
      "text/plain": [
       "(859, 8)"
      ]
     },
     "execution_count": 6,
     "metadata": {},
     "output_type": "execute_result"
    }
   ],
   "source": [
    "len(dataset.original_train_dataset), len(dataset.original_test_dataset)"
   ]
  },
  {
   "cell_type": "code",
   "execution_count": 11,
   "metadata": {},
   "outputs": [
    {
     "data": {
      "text/plain": [
       "array([ 47111,  47111,  47111,  47111,  47111,  47111,  47111,  47111,\n",
       "        47111,  47111,  47111,  47111,  47111,  47111,  47111,  47111,\n",
       "        47111,  47111,  47111,  47111,  47111,  47111,  47111,  47111,\n",
       "        47111,  47111,  47111,  47111,  47111,  47111,  47111,  47111,\n",
       "        47111,  47111,  47111,  47111,  47111,  47111,  47111,  47111,\n",
       "        47111,  47111,  47111,  47111,  47111,  47111,  47111,  47111,\n",
       "        47111,  47111,  47111,  47111,  47111,  47111,  47111,  47111,\n",
       "        47111,  47111,  47111,  47111,  47111,  47111,  47111,  47111,\n",
       "        47111,  47111,  47111,  47111,  47111,  47111,  47111,  47111,\n",
       "        47111,  46313,  46313,  46313,  46313,  46313,  46313,  46313,\n",
       "        46313,  46313,  46313,  46313,  46313,  46313,  46313,  46313,\n",
       "        46313,  46313,  46313,  46313,  46313,  46313,  46313,  46313,\n",
       "        46313,  46313,  46313,  46313,  46313,  46313,  46313,  46313,\n",
       "        46313,  46313,  46313,  46313,  46313,  46313,  46313,  46313,\n",
       "        46313,  46313,  46313,  46313,  46313,  46313,  46313,  46313,\n",
       "        46313,  46313,  46313,  46313,  46313,  46313,  46313, 100657,\n",
       "       100657, 100657, 100657, 100657, 100657, 100657, 100657, 100657,\n",
       "       100657, 100657, 100657, 100657, 100657, 100657, 100657, 100657,\n",
       "       100657, 100657, 100657, 100657, 100657, 100657, 100657, 100657,\n",
       "       100657, 100657, 100657, 100657, 100657, 100657, 100657, 100657,\n",
       "       100657, 100657, 100657, 100657, 100657, 100657, 100657, 100657,\n",
       "       100657, 100657, 100657, 100657, 100657,  44852,  44852,  44852,\n",
       "        44852,  44852,  44852,  44852,  44852,  44852,  44852,  44852,\n",
       "        44852,  44852,  44852,  44852,  44852,  44852,  44852,  44852,\n",
       "        44852,  44852,  44852,  44852,  44852,  44852,  44852,  44852,\n",
       "        31836,  31836,  31836,  31836,  31836,  31836,  31836,  31836,\n",
       "        31836,  31836,  31836,  31836,  31836,  31836,  31836,  31836,\n",
       "        31836,  31836,  31836,  31836,  31836,  31836,  31836,  31836,\n",
       "        31836,  31836,  31836,  31836,  31836,  31836,  31836,  31836,\n",
       "        31836,  31836,  31836,  31836,  31836,  31836,  31836,  31836,\n",
       "        31836,  31836,  31836,  31836,  31836,  31836,  31836,  31836,\n",
       "        31836,  31836,  31836,  31836,  31836,  31836,  31836,  31836,\n",
       "        31836,  31836,  31836,  31836,  31836,  31836,  31836,  31836,\n",
       "        31836,  31836,  31836,  31836,  31836,  31836,  31836,  31836,\n",
       "        31836,  31836,  31836,  31836,  31836,  31836,  31836,  31836,\n",
       "        31836,  31836,  31836,  31836,  31836,  31836,  31836,  31836,\n",
       "        31836,  31836,  31836,  31836,  31836,  31836,  31836,  31836,\n",
       "        31836,  31836,  31836,  31836,  31836,  31836,  31836,  31836,\n",
       "        31836,  31836,  31836,  31836,  31836,  31836,  31836,  31836,\n",
       "        31836,  31836,  31836,  31836,  31836,  31836,  31836,  31836,\n",
       "        31836,  31836,  31836,  31836,  31836,  31836,  31836,  31836,\n",
       "        31836,  31836,  31836,  31836,  20613,  20613,  20613,  20613,\n",
       "        20613,  20613,  20613,  20613,  20613,  20613,  20613,  20613,\n",
       "        20613,  20613,  20613,  20613,  20613,  20613,  20613,  20613,\n",
       "        20613,  20613,  20613,  20613,  20613,  20613,  20613,  20613,\n",
       "        20613,  20613,  20613,  20613,  20613,  20613,  20613,  20613,\n",
       "        20613,  20613,  20613,  43512,  43512,  43512,  43512,  43512,\n",
       "        43512,  43512,  43512,  43512,  43512,  43512,  43512,  43512,\n",
       "        43512,  43512,  43512,  43512,  43512,  43512,  43512,  43512,\n",
       "        43512,  43512,  43512,  43512,  43512,  43512,  43512,  43512,\n",
       "        43512,  43512,  43512,  43512,  43512,  43512,  43512,  43512,\n",
       "        43512,  43512,  43512,  43512,  43512,  43512,  43512,  43512,\n",
       "        43512,  43512,  43512,  43512,  43156,  43156,  43156,  43156,\n",
       "        43156,  43156,  43156,  43156,  43156,  43156,  43156,  43156,\n",
       "        43156,  43156,  43156,  43156,  43156,  43156,  43156,  43156,\n",
       "        43156,  43156,  43156,  43156,  43156,  43156,  43156,  43156,\n",
       "        43156,  43156,  43156,  43156,  43156,  43156,  43156,  43156,\n",
       "        43156,  43156,  43156,  43156,  43156,  43156,  43156,  43156,\n",
       "        43156,  43156,  43156,  43156,  43156,  43156,  43156,  43156,\n",
       "        43156,  43156,  43156,  43156,  43156,  43156,  43156,  37176,\n",
       "        37176,  37176,  37176,  37176,  37176,  37176,  37176,  37176,\n",
       "        37176,  37176,  37176,  37176,  37176,  37176,  37176,  37176,\n",
       "        37176,  37176,  37176,  37176,  37176,  37176,  37176,  37176,\n",
       "        37176,  37176,  37176,  37176,  37176,   5343,   5343,   5343,\n",
       "         5343,   5343,   5343,   5343,   5343,   5343,   5343,   5343,\n",
       "         6053,   6053,   6053,   6053,   6053,   6053,   6053,   6053,\n",
       "         6053,   6053,   6053,   6053,   6053,   6053,   6053,  33973,\n",
       "        33973,  33973,  33973,  33973,  33973,  33973,  33973,  33973,\n",
       "        33973,  33973,  33973,  33973,  33973,  33973,  33973,  33973,\n",
       "        33973,  33973,  33973,  33973,  33973,  33973,  33973,  33973,\n",
       "        33973,  33973,  33973,  33973,  33973,  33973,  33973,  33973,\n",
       "        33973,  33973,  33973,  33973,  33973,  33973,  33973,  33973,\n",
       "        33973,  33973,  33973,  33973,  33973,  33973,  33973,  33973,\n",
       "        33973,  33973,  33973,  33973,  33973,  33973,  33973,  33973,\n",
       "        33973,  33973,  33973,  33973,  33973,  33973,  33973,  33973,\n",
       "        72929,  72929,  72929,  72929,  72929,  72929,  72929,  72929,\n",
       "        72929,  72929,  72929,  72929,  72929,  72929,  72929,  52435,\n",
       "        52435,  52435,  52435,  52435,  52435,  52435,  52435,  52435,\n",
       "        52435,  52435,  52435,  52435,  52435,  52435,  52435,  52435,\n",
       "        52435,  52435,  52435,  52435,  52435,  52435,  52435,  52435,\n",
       "        52435,  52435,  52435,  52435,  52435,  52435,  52435,  52435,\n",
       "        52435,  52435,  33809,  33809,  33809,  33809,  33809,  33809,\n",
       "        33809,  33809,  33809,  33809,  33809,  33809,  33809,  33809,\n",
       "        33809,  33809,  33809,  33809,  33809,  33809,  33809,  33809,\n",
       "        33809,  33809,  33809,  33809,  33809,  33809,  33809,  33809,\n",
       "        33809,  33809,  33809,  33809,  25492,  25492,  25492,  25492,\n",
       "        25492,  25492,  25492,  25492,  25492,  25492,  25492,  25492,\n",
       "        25492,  25492,  25492,  25492,  25492,  25492,  25492,  25492,\n",
       "        25492,  25492,  25492,  25492,  25492,  25492,  25492,  25492,\n",
       "        25492,  25492,  25492,  25492,  25492,  25492,  25492,  25492,\n",
       "        25492,  25492,  25492,  25492,  25492,  25492,  25492,  25492,\n",
       "        25492,  25492,  25492,  43873,  43873,  43873,  43873,  43873,\n",
       "        43873,  43873,  43873,  43873,  43873,  43873,  43873,  43873,\n",
       "        43873,  43873,  43873,  43873,  43873,  43873,  43873,  43873,\n",
       "        43873,  43873,  43873,  43873,  43873,  43873,  43873,  43873,\n",
       "        43873,  43873,  43873,  43873,  43873,  43873,  43873,  43873,\n",
       "        43873,  43873,  43873,  43873,  43873,  43873,  43873,  43873,\n",
       "        43873,  43873,  43873,  43873,  43873,  43873,  43873,  43873,\n",
       "        49623,  49623,  49623,  49623,  49623,  49623,  49623,  49623,\n",
       "        49623,  49623,  49623,  49623,  49623,  49623,  49623,  49623,\n",
       "        49623,  49623,  49623,  49623,  49623,  49623,  49623,  49623,\n",
       "        49623,  49623,  49623,  49623,  49623,  49623,  49623,  49623,\n",
       "        49623,  49623,  49623,  49623,  49623,  49623,  49623,  49623,\n",
       "        49623,  49623,  49623,  49623,  49623,  49623,  49623,  49623,\n",
       "        49623,  49623,  49623,  49623,  49623,  49623,  49623,  49623,\n",
       "        49623,  49623,  49623,  49623,  49623,  49623,  49623,  49623,\n",
       "        49623,  49623,  49623,  49623,  49623,  49623,  49623,  49623,\n",
       "        49623,  49623,  49623, 100657, 100657, 100657, 100657,  37176,\n",
       "        37176,  37176,  37176])"
      ]
     },
     "execution_count": 11,
     "metadata": {},
     "output_type": "execute_result"
    }
   ],
   "source": [
    "dataset.labels"
   ]
  },
  {
   "cell_type": "code",
   "execution_count": 12,
   "metadata": {},
   "outputs": [
    {
     "data": {
      "text/plain": [
       "{'data': <PIL.Image.Image image mode=RGB size=640x426 at 0x7EFF28217DC0>,\n",
       " 'label': 49623}"
      ]
     },
     "execution_count": 12,
     "metadata": {},
     "output_type": "execute_result"
    }
   ],
   "source": [
    "dataset[858]"
   ]
  },
  {
   "cell_type": "code",
   "execution_count": 13,
   "metadata": {},
   "outputs": [
    {
     "data": {
      "text/plain": [
       "(867,)"
      ]
     },
     "execution_count": 13,
     "metadata": {},
     "output_type": "execute_result"
    }
   ],
   "source": [
    "dataset.labels.shape"
   ]
  },
  {
   "cell_type": "code",
   "execution_count": 14,
   "metadata": {},
   "outputs": [
    {
     "data": {
      "text/plain": [
       "(859, 8)"
      ]
     },
     "execution_count": 14,
     "metadata": {},
     "output_type": "execute_result"
    }
   ],
   "source": [
    "len(dataset.original_train_dataset), len(dataset.original_test_dataset)"
   ]
  },
  {
   "cell_type": "code",
   "execution_count": 15,
   "metadata": {},
   "outputs": [
    {
     "data": {
      "text/plain": [
       "[b'849',\n",
       " b'850',\n",
       " b'851',\n",
       " b'852',\n",
       " b'853',\n",
       " b'854',\n",
       " b'855',\n",
       " b'856',\n",
       " b'857',\n",
       " b'858']"
      ]
     },
     "execution_count": 15,
     "metadata": {},
     "output_type": "execute_result"
    }
   ],
   "source": [
    "dataset.original_train_dataset.keys[-10:]"
   ]
  },
  {
   "cell_type": "code",
   "execution_count": 16,
   "metadata": {},
   "outputs": [
    {
     "data": {
      "text/plain": [
       "859"
      ]
     },
     "execution_count": 16,
     "metadata": {},
     "output_type": "execute_result"
    }
   ],
   "source": [
    "len(dataset.train_chains)"
   ]
  },
  {
   "cell_type": "code",
   "execution_count": 17,
   "metadata": {},
   "outputs": [],
   "source": [
    "import numpy as np"
   ]
  },
  {
   "cell_type": "code",
   "execution_count": 18,
   "metadata": {},
   "outputs": [
    {
     "data": {
      "text/plain": [
       "(array([], dtype=int64),)"
      ]
     },
     "execution_count": 18,
     "metadata": {},
     "output_type": "execute_result"
    }
   ],
   "source": [
    "np.where(dataset.labels==1)"
   ]
  },
  {
   "cell_type": "code",
   "execution_count": 19,
   "metadata": {},
   "outputs": [
    {
     "ename": "KeyError",
     "evalue": "1",
     "output_type": "error",
     "traceback": [
      "\u001b[0;31m---------------------------------------------------------------------------\u001b[0m",
      "\u001b[0;31mKeyError\u001b[0m                                  Traceback (most recent call last)",
      "\u001b[0;32m<ipython-input-19-f1aacf4088f9>\u001b[0m in \u001b[0;36m<module>\u001b[0;34m\u001b[0m\n\u001b[0;32m----> 1\u001b[0;31m \u001b[0;32massert\u001b[0m \u001b[0mlist\u001b[0m\u001b[0;34m(\u001b[0m\u001b[0mdataset\u001b[0m\u001b[0;34m.\u001b[0m\u001b[0mlabels\u001b[0m\u001b[0;34m[\u001b[0m\u001b[0;36m0\u001b[0m\u001b[0;34m:\u001b[0m\u001b[0;36m100\u001b[0m\u001b[0;34m]\u001b[0m\u001b[0;34m)\u001b[0m \u001b[0;34m==\u001b[0m \u001b[0;34m[\u001b[0m\u001b[0mdataset\u001b[0m\u001b[0;34m[\u001b[0m\u001b[0mi\u001b[0m\u001b[0;34m]\u001b[0m\u001b[0;34m[\u001b[0m\u001b[0;36m1\u001b[0m\u001b[0;34m]\u001b[0m \u001b[0;32mfor\u001b[0m \u001b[0mi\u001b[0m \u001b[0;32min\u001b[0m \u001b[0mrange\u001b[0m\u001b[0;34m(\u001b[0m\u001b[0;36m0\u001b[0m\u001b[0;34m,\u001b[0m \u001b[0;36m100\u001b[0m\u001b[0;34m)\u001b[0m\u001b[0;34m]\u001b[0m\u001b[0;34m\u001b[0m\u001b[0;34m\u001b[0m\u001b[0m\n\u001b[0m",
      "\u001b[0;32m<ipython-input-19-f1aacf4088f9>\u001b[0m in \u001b[0;36m<listcomp>\u001b[0;34m(.0)\u001b[0m\n\u001b[0;32m----> 1\u001b[0;31m \u001b[0;32massert\u001b[0m \u001b[0mlist\u001b[0m\u001b[0;34m(\u001b[0m\u001b[0mdataset\u001b[0m\u001b[0;34m.\u001b[0m\u001b[0mlabels\u001b[0m\u001b[0;34m[\u001b[0m\u001b[0;36m0\u001b[0m\u001b[0;34m:\u001b[0m\u001b[0;36m100\u001b[0m\u001b[0;34m]\u001b[0m\u001b[0;34m)\u001b[0m \u001b[0;34m==\u001b[0m \u001b[0;34m[\u001b[0m\u001b[0mdataset\u001b[0m\u001b[0;34m[\u001b[0m\u001b[0mi\u001b[0m\u001b[0;34m]\u001b[0m\u001b[0;34m[\u001b[0m\u001b[0;36m1\u001b[0m\u001b[0;34m]\u001b[0m \u001b[0;32mfor\u001b[0m \u001b[0mi\u001b[0m \u001b[0;32min\u001b[0m \u001b[0mrange\u001b[0m\u001b[0;34m(\u001b[0m\u001b[0;36m0\u001b[0m\u001b[0;34m,\u001b[0m \u001b[0;36m100\u001b[0m\u001b[0;34m)\u001b[0m\u001b[0;34m]\u001b[0m\u001b[0;34m\u001b[0m\u001b[0;34m\u001b[0m\u001b[0m\n\u001b[0m",
      "\u001b[0;31mKeyError\u001b[0m: 1"
     ]
    }
   ],
   "source": [
    "assert list(dataset.labels[0:100]) == [dataset[i][1] for i in range(0, 100)]"
   ]
  },
  {
   "cell_type": "code",
   "execution_count": 23,
   "metadata": {},
   "outputs": [
    {
     "name": "stdout",
     "output_type": "stream",
     "text": [
      "CURR SPLIT SCHEME = UsingOriginalTest_Partitions4_0\n",
      "train len 644\n",
      "val len 215\n",
      "test len 8\n",
      "train labels {72929, 37176, 43873, 49623, 20613, 6053, 47111, 46313, 100657, 33809, 52435, 44852, 43156, 33973, 25492, 43512, 31836, 5343}\n",
      "val labels {72929, 37176, 43873, 49623, 20613, 6053, 47111, 46313, 100657, 33809, 52435, 44852, 43156, 33973, 25492, 43512, 31836, 5343}\n",
      "test labels {37176, 100657}\n",
      "CURR SPLIT SCHEME = UsingOriginalTest_Partitions4_1\n",
      "train len 644\n",
      "val len 215\n",
      "test len 8\n",
      "train labels {72929, 37176, 43873, 49623, 20613, 6053, 47111, 46313, 100657, 33809, 52435, 44852, 43156, 33973, 25492, 43512, 31836, 5343}\n",
      "val labels {72929, 37176, 43873, 49623, 20613, 6053, 47111, 46313, 100657, 33809, 52435, 44852, 43156, 33973, 25492, 43512, 31836, 5343}\n",
      "test labels {37176, 100657}\n",
      "CURR SPLIT SCHEME = UsingOriginalTest_Partitions4_2\n",
      "train len 644\n",
      "val len 215\n",
      "test len 8\n",
      "train labels {72929, 37176, 43873, 49623, 20613, 6053, 47111, 46313, 100657, 33809, 52435, 44852, 43156, 33973, 25492, 43512, 31836, 5343}\n",
      "val labels {72929, 37176, 43873, 49623, 20613, 6053, 47111, 46313, 100657, 33809, 52435, 44852, 43156, 33973, 25492, 43512, 31836, 5343}\n",
      "test labels {37176, 100657}\n",
      "CURR SPLIT SCHEME = UsingOriginalTest_Partitions4_3\n",
      "train len 645\n",
      "val len 214\n",
      "test len 8\n",
      "train labels {72929, 37176, 43873, 49623, 20613, 6053, 47111, 46313, 100657, 33809, 52435, 44852, 43156, 33973, 25492, 43512, 31836, 5343}\n",
      "val labels {72929, 37176, 43873, 49623, 20613, 6053, 47111, 46313, 100657, 33809, 52435, 44852, 43156, 33973, 25492, 43512, 31836, 5343}\n",
      "test labels {37176, 100657}\n"
     ]
    }
   ],
   "source": [
    "ds = dataset\n",
    "\n",
    "# first level of dictionary is transform type\n",
    "# second level consists of separate dataset objects for each split\n",
    "datasets = {\"eval\": {\"train\": ds,\n",
    "                    \"val\": ds,\n",
    "                    \"test\": ds}\n",
    "            }\n",
    "\n",
    "helper_split_manager = UseOriginalTestSplitManager()\n",
    "split_manager = ClosedSetSplitManager(num_training_partitions=4, num_training_sets=4, helper_split_manager=helper_split_manager)\n",
    "\n",
    "split_manager.create_split_schemes(datasets)\n",
    "\n",
    "test_set = split_manager.get_dataset(\"eval\", \"test\")\n",
    "\n",
    "for name in split_manager.split_scheme_names:\n",
    "    split_manager.set_curr_split_scheme(name)\n",
    "    print(\"CURR SPLIT SCHEME =\", split_manager.curr_split_scheme_name)\n",
    "    print(\"train len\", len(split_manager.get_dataset(\"eval\", \"train\")))\n",
    "    print(\"val len\", len(split_manager.get_dataset(\"eval\", \"val\")))\n",
    "    print(\"test len\", len(split_manager.get_dataset(\"eval\", \"test\")))\n",
    "\n",
    "    print(\"train labels\", split_manager.get_label_set(\"eval\", \"train\"))\n",
    "    print(\"val labels\", split_manager.get_label_set(\"eval\", \"val\"))\n",
    "    print(\"test labels\", split_manager.get_label_set(\"eval\", \"test\"))\n",
    "    \n",
    "    assert set(split_manager.get_dataset(\"eval\", \"train\").indices).intersection(split_manager.get_dataset(\"eval\", \"val\").indices) == set()\n",
    "    assert set(split_manager.get_dataset(\"eval\", \"train\").indices).intersection(split_manager.get_dataset(\"eval\", \"test\").indices) == set()\n",
    "    assert set(split_manager.get_dataset(\"eval\", \"val\").indices).intersection(split_manager.get_dataset(\"eval\", \"test\").indices) == set()\n"
   ]
  },
  {
   "cell_type": "code",
   "execution_count": 16,
   "metadata": {},
   "outputs": [
    {
     "name": "stderr",
     "output_type": "stream",
     "text": [
      "100%|██████████| 21/21 [00:04<00:00,  4.50it/s]\n"
     ]
    }
   ],
   "source": [
    "train_ds = split_manager.get_dataset(\"eval\", \"train\")\n",
    "batch_size = 32\n",
    "\n",
    "def collate(stuff):\n",
    "    return [s['data'] for s in stuff]\n",
    "\n",
    "loader = DataLoader(train_ds, shuffle=True, batch_size=batch_size,  num_workers=4, collate_fn=collate)\n",
    "\n",
    "for batch in tqdm(loader):\n",
    "    assert len(batch) > 0"
   ]
  },
  {
   "cell_type": "code",
   "execution_count": null,
   "metadata": {},
   "outputs": [],
   "source": []
  }
 ],
 "metadata": {
  "kernelspec": {
   "display_name": "Python 3",
   "language": "python",
   "name": "python3"
  },
  "language_info": {
   "codemirror_mode": {
    "name": "ipython",
    "version": 3
   },
   "file_extension": ".py",
   "mimetype": "text/x-python",
   "name": "python",
   "nbconvert_exporter": "python",
   "pygments_lexer": "ipython3",
   "version": "3.8.5"
  }
 },
 "nbformat": 4,
 "nbformat_minor": 4
}
